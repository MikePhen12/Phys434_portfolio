{
 "cells": [
  {
   "cell_type": "code",
   "execution_count": 1,
   "metadata": {},
   "outputs": [],
   "source": [
    "%matplotlib inline\n",
    "import numpy as np\n",
    "import matplotlib\n",
    "import matplotlib.pyplot as plt\n",
    "import scipy\n",
    "from scipy import stats\n",
    "import h5py\n",
    "import pandas as pd\n",
    "import imageio\n",
    "\n",
    "#this sets the size of the plot to something useful\n",
    "plt.rcParams[\"figure.figsize\"] = (20,20)"
   ]
  },
  {
   "cell_type": "code",
   "execution_count": 17,
   "metadata": {},
   "outputs": [
    {
     "data": {
      "text/html": [
       "<div>\n",
       "<style scoped>\n",
       "    .dataframe tbody tr th:only-of-type {\n",
       "        vertical-align: middle;\n",
       "    }\n",
       "\n",
       "    .dataframe tbody tr th {\n",
       "        vertical-align: top;\n",
       "    }\n",
       "\n",
       "    .dataframe thead th {\n",
       "        text-align: right;\n",
       "    }\n",
       "</style>\n",
       "<table border=\"1\" class=\"dataframe\">\n",
       "  <thead>\n",
       "    <tr style=\"text-align: right;\">\n",
       "      <th></th>\n",
       "      <th>pt</th>\n",
       "      <th>eta</th>\n",
       "      <th>phi</th>\n",
       "      <th>mass</th>\n",
       "      <th>ee2</th>\n",
       "      <th>ee3</th>\n",
       "      <th>d2</th>\n",
       "      <th>angularity</th>\n",
       "      <th>t1</th>\n",
       "      <th>t2</th>\n",
       "      <th>t3</th>\n",
       "      <th>t21</th>\n",
       "      <th>t32</th>\n",
       "      <th>KtDeltaR</th>\n",
       "    </tr>\n",
       "  </thead>\n",
       "  <tbody>\n",
       "    <tr>\n",
       "      <th>0</th>\n",
       "      <td>491.273762</td>\n",
       "      <td>0.885859</td>\n",
       "      <td>-1.607844</td>\n",
       "      <td>58.540714</td>\n",
       "      <td>0.027848</td>\n",
       "      <td>0.000236</td>\n",
       "      <td>10.916629</td>\n",
       "      <td>0.002658</td>\n",
       "      <td>0.723524</td>\n",
       "      <td>0.576035</td>\n",
       "      <td>0.451149</td>\n",
       "      <td>0.796152</td>\n",
       "      <td>0.783197</td>\n",
       "      <td>0.105238</td>\n",
       "    </tr>\n",
       "    <tr>\n",
       "      <th>1</th>\n",
       "      <td>443.077741</td>\n",
       "      <td>-0.850850</td>\n",
       "      <td>-1.808610</td>\n",
       "      <td>109.261432</td>\n",
       "      <td>0.111414</td>\n",
       "      <td>0.003361</td>\n",
       "      <td>2.430250</td>\n",
       "      <td>0.003674</td>\n",
       "      <td>1.081477</td>\n",
       "      <td>0.488437</td>\n",
       "      <td>0.431396</td>\n",
       "      <td>0.451639</td>\n",
       "      <td>0.883217</td>\n",
       "      <td>0.254729</td>\n",
       "    </tr>\n",
       "    <tr>\n",
       "      <th>2</th>\n",
       "      <td>487.700656</td>\n",
       "      <td>-0.848095</td>\n",
       "      <td>3.101697</td>\n",
       "      <td>80.398065</td>\n",
       "      <td>0.059299</td>\n",
       "      <td>0.000973</td>\n",
       "      <td>4.666474</td>\n",
       "      <td>0.004545</td>\n",
       "      <td>0.885087</td>\n",
       "      <td>0.637212</td>\n",
       "      <td>0.476032</td>\n",
       "      <td>0.719942</td>\n",
       "      <td>0.747054</td>\n",
       "      <td>0.231983</td>\n",
       "    </tr>\n",
       "    <tr>\n",
       "      <th>3</th>\n",
       "      <td>474.234962</td>\n",
       "      <td>1.501633</td>\n",
       "      <td>-1.656456</td>\n",
       "      <td>90.085535</td>\n",
       "      <td>0.061264</td>\n",
       "      <td>0.001368</td>\n",
       "      <td>5.948416</td>\n",
       "      <td>0.001163</td>\n",
       "      <td>1.354343</td>\n",
       "      <td>0.698983</td>\n",
       "      <td>0.668163</td>\n",
       "      <td>0.516104</td>\n",
       "      <td>0.955908</td>\n",
       "      <td>0.096045</td>\n",
       "    </tr>\n",
       "    <tr>\n",
       "      <th>4</th>\n",
       "      <td>485.597724</td>\n",
       "      <td>1.021424</td>\n",
       "      <td>1.742641</td>\n",
       "      <td>119.889999</td>\n",
       "      <td>0.133209</td>\n",
       "      <td>0.003223</td>\n",
       "      <td>1.363644</td>\n",
       "      <td>0.001526</td>\n",
       "      <td>0.905440</td>\n",
       "      <td>0.354629</td>\n",
       "      <td>0.219775</td>\n",
       "      <td>0.391665</td>\n",
       "      <td>0.619733</td>\n",
       "      <td>0.406962</td>\n",
       "    </tr>\n",
       "  </tbody>\n",
       "</table>\n",
       "</div>"
      ],
      "text/plain": [
       "           pt       eta       phi        mass       ee2       ee3         d2  \\\n",
       "0  491.273762  0.885859 -1.607844   58.540714  0.027848  0.000236  10.916629   \n",
       "1  443.077741 -0.850850 -1.808610  109.261432  0.111414  0.003361   2.430250   \n",
       "2  487.700656 -0.848095  3.101697   80.398065  0.059299  0.000973   4.666474   \n",
       "3  474.234962  1.501633 -1.656456   90.085535  0.061264  0.001368   5.948416   \n",
       "4  485.597724  1.021424  1.742641  119.889999  0.133209  0.003223   1.363644   \n",
       "\n",
       "   angularity        t1        t2        t3       t21       t32  KtDeltaR  \n",
       "0    0.002658  0.723524  0.576035  0.451149  0.796152  0.783197  0.105238  \n",
       "1    0.003674  1.081477  0.488437  0.431396  0.451639  0.883217  0.254729  \n",
       "2    0.004545  0.885087  0.637212  0.476032  0.719942  0.747054  0.231983  \n",
       "3    0.001163  1.354343  0.698983  0.668163  0.516104  0.955908  0.096045  \n",
       "4    0.001526  0.905440  0.354629  0.219775  0.391665  0.619733  0.406962  "
      ]
     },
     "execution_count": 17,
     "metadata": {},
     "output_type": "execute_result"
    }
   ],
   "source": [
    "highLumi_data = pd.read_hdf('data_highLumi_pt_250_500.h5')\n",
    "lowLumi_data = pd.read_hdf('data_lowLumi_pt_250_500.h5')\n",
    "\n",
    "highLumi_data.head()"
   ]
  },
  {
   "cell_type": "code",
   "execution_count": 13,
   "metadata": {},
   "outputs": [
    {
     "name": "stdout",
     "output_type": "stream",
     "text": [
      "qcd_100000_pt_250_500\n",
      "higgs_100000_pt_250_500\n"
     ]
    }
   ],
   "source": [
    "hf_higgs= h5py.File('higgs_100000_pt_250_500.h5', 'r')\n",
    "hf_qcd = h5py.File('qcd_100000_pt_250_500.h5', 'r')\n",
    "\n",
    "with h5py.File('qcd_100000_pt_250_500.h5', \"r\") as f:\n",
    "    # List all groups\n",
    "    for key in f.keys():\n",
    "        print(key)\n",
    "\n",
    "with h5py.File('higgs_100000_pt_250_500.h5', \"r\") as f:\n",
    "    # List all groups\n",
    "    for key in f.keys():\n",
    "        print(key)"
   ]
  },
  {
   "cell_type": "code",
   "execution_count": 14,
   "metadata": {},
   "outputs": [],
   "source": [
    "higgs_data = np.array(hf_higgs.get('higgs_100000_pt_250_500'))\n",
    "qcd_background_data = np.array(hf_qcd.get('qcd_100000_pt_250_500'))"
   ]
  },
  {
   "cell_type": "code",
   "execution_count": 15,
   "metadata": {},
   "outputs": [],
   "source": [
    "higgs_data_1 = pd.DataFrame(data=higgs_data, index=None, columns = ['pt', 'eta', 'phi', 'mass', 'ee2', 'ee3', 'd2', 'angularity', 't1', 't2', 't3', 't21', 't32', 'KtDeltaR'])\n",
    "qcd_background_data_1 = pd.DataFrame(data=qcd_background_data, index=None, columns = ['pt', 'eta', 'phi', 'mass', 'ee2', 'ee3', 'd2', 'angularity', 't1', 't2', 't3', 't21', 't32', 'KtDeltaR'])\n",
    "\n",
    "higgs_data = higgs_data_1\n",
    "qcd_background_data = qcd_background_data_1"
   ]
  },
  {
   "cell_type": "code",
   "execution_count": 18,
   "metadata": {},
   "outputs": [
    {
     "data": {
      "text/html": [
       "<div>\n",
       "<style scoped>\n",
       "    .dataframe tbody tr th:only-of-type {\n",
       "        vertical-align: middle;\n",
       "    }\n",
       "\n",
       "    .dataframe tbody tr th {\n",
       "        vertical-align: top;\n",
       "    }\n",
       "\n",
       "    .dataframe thead th {\n",
       "        text-align: right;\n",
       "    }\n",
       "</style>\n",
       "<table border=\"1\" class=\"dataframe\">\n",
       "  <thead>\n",
       "    <tr style=\"text-align: right;\">\n",
       "      <th></th>\n",
       "      <th>pt</th>\n",
       "      <th>eta</th>\n",
       "      <th>phi</th>\n",
       "      <th>mass</th>\n",
       "      <th>ee2</th>\n",
       "      <th>ee3</th>\n",
       "      <th>d2</th>\n",
       "      <th>angularity</th>\n",
       "      <th>t1</th>\n",
       "      <th>t2</th>\n",
       "      <th>t3</th>\n",
       "      <th>t21</th>\n",
       "      <th>t32</th>\n",
       "      <th>KtDeltaR</th>\n",
       "    </tr>\n",
       "  </thead>\n",
       "  <tbody>\n",
       "    <tr>\n",
       "      <th>0</th>\n",
       "      <td>472.074292</td>\n",
       "      <td>0.137052</td>\n",
       "      <td>-2.535145</td>\n",
       "      <td>125.150365</td>\n",
       "      <td>0.126581</td>\n",
       "      <td>0.002633</td>\n",
       "      <td>1.298020</td>\n",
       "      <td>0.008218</td>\n",
       "      <td>0.739787</td>\n",
       "      <td>0.283689</td>\n",
       "      <td>0.174944</td>\n",
       "      <td>0.383474</td>\n",
       "      <td>0.616674</td>\n",
       "      <td>0.557407</td>\n",
       "    </tr>\n",
       "    <tr>\n",
       "      <th>1</th>\n",
       "      <td>470.405678</td>\n",
       "      <td>-0.039157</td>\n",
       "      <td>0.069669</td>\n",
       "      <td>130.552672</td>\n",
       "      <td>0.118071</td>\n",
       "      <td>0.002379</td>\n",
       "      <td>1.445626</td>\n",
       "      <td>0.013822</td>\n",
       "      <td>0.747927</td>\n",
       "      <td>0.234281</td>\n",
       "      <td>0.193354</td>\n",
       "      <td>0.313240</td>\n",
       "      <td>0.825308</td>\n",
       "      <td>0.704650</td>\n",
       "    </tr>\n",
       "    <tr>\n",
       "      <th>2</th>\n",
       "      <td>438.008357</td>\n",
       "      <td>-0.181139</td>\n",
       "      <td>-3.031083</td>\n",
       "      <td>125.703063</td>\n",
       "      <td>0.167344</td>\n",
       "      <td>0.004623</td>\n",
       "      <td>0.986597</td>\n",
       "      <td>0.004545</td>\n",
       "      <td>1.001379</td>\n",
       "      <td>0.440523</td>\n",
       "      <td>0.218649</td>\n",
       "      <td>0.439917</td>\n",
       "      <td>0.496338</td>\n",
       "      <td>0.487496</td>\n",
       "    </tr>\n",
       "    <tr>\n",
       "      <th>3</th>\n",
       "      <td>484.860421</td>\n",
       "      <td>0.251986</td>\n",
       "      <td>2.855706</td>\n",
       "      <td>126.215853</td>\n",
       "      <td>0.119238</td>\n",
       "      <td>0.002066</td>\n",
       "      <td>1.218467</td>\n",
       "      <td>0.006740</td>\n",
       "      <td>0.761892</td>\n",
       "      <td>0.228160</td>\n",
       "      <td>0.193810</td>\n",
       "      <td>0.299465</td>\n",
       "      <td>0.849449</td>\n",
       "      <td>0.594872</td>\n",
       "    </tr>\n",
       "    <tr>\n",
       "      <th>4</th>\n",
       "      <td>486.141137</td>\n",
       "      <td>-1.917812</td>\n",
       "      <td>-2.221953</td>\n",
       "      <td>132.182504</td>\n",
       "      <td>0.103632</td>\n",
       "      <td>0.001438</td>\n",
       "      <td>1.291784</td>\n",
       "      <td>0.000398</td>\n",
       "      <td>0.722656</td>\n",
       "      <td>0.166851</td>\n",
       "      <td>0.148080</td>\n",
       "      <td>0.230886</td>\n",
       "      <td>0.887497</td>\n",
       "      <td>0.678118</td>\n",
       "    </tr>\n",
       "  </tbody>\n",
       "</table>\n",
       "</div>"
      ],
      "text/plain": [
       "           pt       eta       phi        mass       ee2       ee3        d2  \\\n",
       "0  472.074292  0.137052 -2.535145  125.150365  0.126581  0.002633  1.298020   \n",
       "1  470.405678 -0.039157  0.069669  130.552672  0.118071  0.002379  1.445626   \n",
       "2  438.008357 -0.181139 -3.031083  125.703063  0.167344  0.004623  0.986597   \n",
       "3  484.860421  0.251986  2.855706  126.215853  0.119238  0.002066  1.218467   \n",
       "4  486.141137 -1.917812 -2.221953  132.182504  0.103632  0.001438  1.291784   \n",
       "\n",
       "   angularity        t1        t2        t3       t21       t32  KtDeltaR  \n",
       "0    0.008218  0.739787  0.283689  0.174944  0.383474  0.616674  0.557407  \n",
       "1    0.013822  0.747927  0.234281  0.193354  0.313240  0.825308  0.704650  \n",
       "2    0.004545  1.001379  0.440523  0.218649  0.439917  0.496338  0.487496  \n",
       "3    0.006740  0.761892  0.228160  0.193810  0.299465  0.849449  0.594872  \n",
       "4    0.000398  0.722656  0.166851  0.148080  0.230886  0.887497  0.678118  "
      ]
     },
     "execution_count": 18,
     "metadata": {},
     "output_type": "execute_result"
    }
   ],
   "source": [
    "higgs_data.head()"
   ]
  },
  {
   "cell_type": "code",
   "execution_count": 42,
   "metadata": {},
   "outputs": [
    {
     "data": {
      "image/png": "[encoded data removed]",
      "text/plain": [
       "<Figure size 1080x432 with 1 Axes>"
      ]
     },
     "metadata": {},
     "output_type": "display_data"
    }
   ],
   "source": [
    "bins = 90; alph = .2 \n",
    "fig, (ax) = plt.subplots(1, 1, figsize = (15, 6))\n",
    "ax.hist(qcd_background_data['mass'], bins, alpha = alph, density = True, color='b', label='Background')\n",
    "ax.hist(higgs_data['mass'], bins, alpha = alph, density = True, color='r', label='Higgs')\n",
    "ax.hist(highLumi_data['mass'], bins, alpha = alph, density = True, color='g', label='highLumi')\n",
    "ax.set_yscale('log')\n",
    "ax.set_title('Mass probability distribution') \n",
    "ax.set_xlabel('Counts')\n",
    "ax.set_ylabel('Log(Counts)')\n",
    "ax.legend()\n",
    "fig.tight_layout()"
   ]
  },
  {
   "cell_type": "markdown",
   "metadata": {},
   "source": [
    "So based on Lab 7, it looks like the highLumi data is very similar to the background distribution. Although it is not scaled yet, It seems that a lot of our observed data is background. There is a tiny sliver of green that can be seen around 124 counts. Let's see if we can make cuts to see if that little sliver is actually a signal. "
   ]
  },
  {
   "cell_type": "code",
   "execution_count": 43,
   "metadata": {},
   "outputs": [
    {
     "name": "stdout",
     "output_type": "stream",
     "text": [
      "The overall size of the highLumi data is: 40344\n",
      "The overall size of the lowLumi data is: 4060\n",
      "The overall size of the qcd and higgs data is: 100000\n"
     ]
    }
   ],
   "source": [
    "# Showing that there is a difference within the lengths of the Lumi_data compared to the higgs_data\n",
    "\n",
    "print(\"The overall size of the highLumi data is: \" + str(len(highLumi_data)))\n",
    "print(\"The overall size of the lowLumi data is: \" + str(len(lowLumi_data)))\n",
    "print(\"The overall size of the qcd and higgs data is: \" + str(len(higgs_data)))"
   ]
  },
  {
   "cell_type": "code",
   "execution_count": 23,
   "metadata": {},
   "outputs": [
    {
     "name": "stdout",
     "output_type": "stream",
     "text": [
      "The probability that a signal will be falsely recorded as a background: 1.0\n",
      "Sigma value for the above percentage is: -inf\n"
     ]
    },
    {
     "data": {
      "image/png": "[encoded data removed]",
      "text/plain": [
       "<Figure size 1080x216 with 2 Axes>"
      ]
     },
     "metadata": {},
     "output_type": "display_data"
    }
   ],
   "source": [
    "mu = 20000; sigma = 0; siz = 100000\n",
    "distro = stats.poisson.rvs(mu, sigma, size = siz)\n",
    "fig, (ax, ax1) = plt.subplots(1, 2, figsize=(15,3))\n",
    "                          \n",
    "ax.set_title(f'Average = {mu}, Offset from Center = {sigma}') \n",
    "x = np.linspace(0, 2*mu, 2*mu+1)\n",
    "ax.plot(x,stats.poisson.pmf(x,mu,sigma), 'b.', ms=.5, alpha = .5)\n",
    "ax.vlines(x, 0, stats.poisson.pmf(x, mu, sigma), colors='b', lw=.2, alpha=0.5)\n",
    "measured = np.linspace(0, 100, 101)\n",
    "ax.fill_between(measured, stats.poisson.pmf(measured, mu, sigma), color = 'r', linewidth = 1, alpha = .4)\n",
    "ax.set_xlabel('x')\n",
    "ax.set_ylabel('Counts')\n",
    "\n",
    "ax1.set_title(f'Average = {mu}, Offset from Center = {sigma}') \n",
    "x1 = np.linspace(0, 2*mu, 2*mu+1)\n",
    "ax1.plot(x1, stats.poisson.pmf(x1,mu,sigma), 'b.', ms=.5, alpha = .5)\n",
    "ax1.vlines(x1, 0, stats.poisson.pmf(x1, mu, sigma), colors='b', lw=.2, alpha=0.5)\n",
    "measured1 = np.linspace(0, 100, 101)\n",
    "ax1.fill_between(measured1, stats.poisson.pmf(measured1, mu, sigma), color = 'r', linewidth = 1, alpha = .4)\n",
    "ax1.set_xlabel('x')\n",
    "ax1.set_xlim([10000, 30000])\n",
    "ax1.set_ylabel('Log(Counts)')\n",
    "ax1.set_yscale('log')\n",
    "\n",
    "prob = 1 - stats.poisson.cdf(100, mu, sigma)\n",
    "z = (stats.norm.ppf(1-(prob)))\n",
    "\n",
    "print(f'The probability that a signal will be falsely recorded as a background: {prob}')\n",
    "print(f'Sigma value for the above percentage is: {z}')"
   ]
  },
  {
   "cell_type": "code",
   "execution_count": null,
   "metadata": {},
   "outputs": [],
   "source": [
    "qcd_background_mass_cut = qcd_background_data.query(f' 20 < mass < 130')\n",
    "higgs_data_mass_cut = higgs_data.query(f' 20 < mass < 130')\n",
    "background_cut = len(qcd_background_mass_cut)/len(qcd_background_data)\n",
    "higgs_cut = len(higgs_data_mass_cut)/len(higgs_data)\n",
    "print(f' Percent cut from background data: {(1 - background_cut)*100:.4f}%')\n",
    "print(f' Percent cut from higgs data: {(1 - higgs_cut)*100:.4f}%')"
   ]
  }
 ],
 "metadata": {
  "kernelspec": {
   "display_name": "Python 3",
   "language": "python",
   "name": "python3"
  },
  "language_info": {
   "codemirror_mode": {
    "name": "ipython",
    "version": 3
   },
   "file_extension": ".py",
   "mimetype": "text/x-python",
   "name": "python",
   "nbconvert_exporter": "python",
   "pygments_lexer": "ipython3",
   "version": "3.6.5"
  }
 },
 "nbformat": 4,
 "nbformat_minor": 2
}
